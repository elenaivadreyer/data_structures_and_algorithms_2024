{
 "cells": [
  {
   "cell_type": "markdown",
   "source": [
    "# DSA Problem Set 1\n",
    "## Elena Dreyer"
   ],
   "metadata": {
    "collapsed": false
   },
   "id": "2e0f444083f10b02"
  },
  {
   "cell_type": "markdown",
   "source": [
    "### 1)\n",
    "---\n",
    "\n",
    "#### Convert the following decimal integers into 8-bit Two’s Complement signed integers.\n",
    "#### If that isn’t possible, explain why it isn’t.\n",
    "\n",
    "#### a. 24\n",
    "By division by two method, we have:\n",
    "\n",
    "$24 / 2 = 12 (0)$\n",
    "$12 / 2 =  6 (0)$\n",
    "$6 / 2 =  3 (0)$\n",
    "$3 / 2 =  1 (1)$\n",
    "$1 / 2 =  0 (1)$\n",
    "\n",
    "Reading the remainders from bottom to top we get `11000` as the binary representation of `24`. Since the number is positive, the sign bit is `0`. Therefore, the 8-bit Two's Complement signed integer representation is `0011000`. \n",
    "\n",
    "#### b. 156\n",
    "Conversion into 8-bit Two’s Complement signed integer not possible as it exceeds range (>127).\n",
    "\n",
    "#### c. -37\n",
    "By division by two method, we have:\n",
    "\n",
    "$37 / 2 = 18 (1)$\n",
    "$18 / 2 = 9 (0)$\n",
    "$9 / 2 = 4 (1)$\n",
    "$4 / 2 = 2 (0)$\n",
    "$2 / 2 = 1 (0)$\n",
    "$1 / 2 = 0 (1)$\n",
    "\n",
    "Reading the remainders from bottom to top we get `100101` as the binary representation of `37`. Since the number is negative, the sign bit is `1`. The 8-bit Two's Complement signed integer is `11011011`.\n",
    "\n",
    "#### c. 16\n",
    "By division by two method, we have:\n",
    "\n",
    "$16 / 2 = 8 (0)$\n",
    "$8 / 2 =  4 (0)$\n",
    "$4 / 2 =  2 (0)$\n",
    "$2 / 2 =  1 (0)$\n",
    "$1 / 2 =  0 (1)$\n",
    "\n",
    "Reading the remainders from bottom to top we get `10000` as the binary representation of `16`. Since the number is positive, the sign bit is `0`. Therefore, the 8-bit Two's Complement signed integer is `00010000`.\n"
   ],
   "metadata": {
    "collapsed": false
   },
   "id": "919feea7a3f027e7"
  },
  {
   "cell_type": "markdown",
   "source": [
    "### 2) Addition / Subtraction\n",
    "---\n",
    "\n",
    "-  00010010 + 10011100 = 10101110\n",
    "    - The final result can be represented in 8 bits, there is no overflow or underflow.\n",
    "        \n",
    "- 00011000 + 00001000 = 00100000\n",
    "    - The final result can be represented in 8 bits, there is no overflow or underflow.\n",
    "\n",
    "-  01100010 + 00101100\n",
    "    - 01100010 = 98\n",
    "    - 00101100 = 44\n",
    "    - In decimal 98 + 44 = 142\n",
    "    - Exceeds the range --> overflow occures\n",
    "\n",
    "-  11001111 + 10101001\n",
    "    - 11001111 = -49\n",
    "    - 10101001 = -87\n",
    "    - In decimal -49 + (-87) = -136.\n",
    "    - -136 exceeds the range --> underflow occures"
   ],
   "metadata": {
    "collapsed": false
   },
   "id": "1b1e449dc1a18e7a"
  },
  {
   "cell_type": "markdown",
   "source": [
    "### 3) Convert fractions into 8-bit floating point \n",
    "\n",
    "---\n",
    "\n",
    "-  $3 \\frac{1}{4} \\rightarrow 01101101$\n",
    "-  $-6 \\frac{1}{2} \\rightarrow 11111101$\n",
    "-  $4 \\frac{1}{2} \\rightarrow 01111001$\n",
    "-  $\\frac{9}{256} \\rightarrow 00001001$"
   ],
   "metadata": {
    "collapsed": false
   },
   "id": "4881817017a8ef94"
  },
  {
   "cell_type": "markdown",
   "source": [
    "### 4) Convert 8-bit floating point into fractions\n",
    "\n",
    "---\n",
    "-  $01101011 \\rightarrow 2\\frac{3}{4}$\n",
    "-  $11011001 \\rightarrow -1 \\frac{1}{8}$\n",
    "-  $11001011 \\rightarrow \\frac{-11}{16}$\n",
    "-  $01111111 \\rightarrow 7 \\frac{1}{2}$"
   ],
   "metadata": {
    "collapsed": false
   },
   "id": "48a6a1a75d202deb"
  },
  {
   "cell_type": "markdown",
   "source": [
    "### 5) CPU\n",
    "\n",
    "---\n",
    "- Address (A0) is placed in the program counter and machine is started.\n",
    "- CPU fetches machine cycle by extracting the instruction stored in main memory at location A0 and places the instruction 14AA in its instruction register.\n",
    "- CPU decodes the instruction 14AA and causes the contents of the memory cell located at AA to be placed in register 4.\n",
    "- Value at address AA which is B4 (10110100 in binary) is placed in register 4.\n",
    "- Next cycle begins and the CPU fetches the instruction at location A2 and places the instruction 23AA in its instruction register.\n",
    "- CPU decodes the instruction 23AA and decides that to load the register 3 with the value AA (10101010 in binary).\n",
    "- Value AA needs gets placed in register 3.\n",
    "- Next cycle is initiated and CPU fetches the instruction A303 from register A4.\n",
    "- Instruction A303 gets decoded and executed which results in the contents of register 3 to get rotated 3 bits to the right in circular fashion.\n",
    "- After execution the contents of register 3 which is AA (10101010 in binary) will be rotated to 55 (01010101 in binary).\n",
    "- Next cycle begins and instruction 8234 gets fetched from memory location A6 and placed in the instruction register.\n",
    "- CPU decodes next instruction which tells to AND the bit patterns in registers 3 and 4 and place the result in register 2.\n",
    "- This results in the contents of registers 3 and 4 to be \"anded\" and the result is placed in register 2. In particular, this means that the values 55 (01010101 in binary) and B4 (10110100 in binary) which get to 14 in Hex (00010100 in binary) will be placed in register 2.\n",
    "- Next cycle fetches the instruction C0 from memory location A8 and places the instruction in the instruction register.\n",
    "- Instruction gets decoded and CPU concludes that C000 is a HALT instruction. The execution stops."
   ],
   "metadata": {
    "collapsed": false
   },
   "id": "cbf7c877efce608a"
  },
  {
   "cell_type": "markdown",
   "source": [
    "### 6) Palindrome function\n",
    "\n",
    "---"
   ],
   "metadata": {
    "collapsed": false
   },
   "id": "40b10b832a48307c"
  },
  {
   "cell_type": "code",
   "outputs": [],
   "source": [
    "def palindrome_number(num: int) -> bool:\n",
    "    if not isinstance(num, int):\n",
    "        raise TypeError(\"Input must be an integer\")\n",
    "    else:\n",
    "        return str(num) == str(num)[::-1]"
   ],
   "metadata": {
    "collapsed": false,
    "ExecuteTime": {
     "end_time": "2024-02-22T21:38:53.096225Z",
     "start_time": "2024-02-22T21:38:53.048707Z"
    }
   },
   "id": "345e4b93f3524c71",
   "execution_count": 86
  },
  {
   "cell_type": "code",
   "outputs": [
    {
     "data": {
      "text/plain": "True"
     },
     "execution_count": 87,
     "metadata": {},
     "output_type": "execute_result"
    }
   ],
   "source": [
    "# test 1\n",
    "palindrome_number(131)"
   ],
   "metadata": {
    "collapsed": false,
    "ExecuteTime": {
     "end_time": "2024-02-22T21:38:53.096892Z",
     "start_time": "2024-02-22T21:38:53.077336Z"
    }
   },
   "id": "2225dd62c48a826d",
   "execution_count": 87
  },
  {
   "cell_type": "code",
   "outputs": [
    {
     "data": {
      "text/plain": "False"
     },
     "execution_count": 88,
     "metadata": {},
     "output_type": "execute_result"
    }
   ],
   "source": [
    "# test 2\n",
    "palindrome_number(168745)"
   ],
   "metadata": {
    "collapsed": false,
    "ExecuteTime": {
     "end_time": "2024-02-22T21:38:53.097254Z",
     "start_time": "2024-02-22T21:38:53.081694Z"
    }
   },
   "id": "43c74a605f289169",
   "execution_count": 88
  },
  {
   "cell_type": "code",
   "outputs": [
    {
     "ename": "TypeError",
     "evalue": "Input must be an integer",
     "output_type": "error",
     "traceback": [
      "\u001B[0;31m---------------------------------------------------------------------------\u001B[0m",
      "\u001B[0;31mTypeError\u001B[0m                                 Traceback (most recent call last)",
      "Cell \u001B[0;32mIn[89], line 2\u001B[0m\n\u001B[1;32m      1\u001B[0m \u001B[38;5;66;03m# test 3\u001B[39;00m\n\u001B[0;32m----> 2\u001B[0m palindrome_number(\u001B[38;5;124m'\u001B[39m\u001B[38;5;124m00000\u001B[39m\u001B[38;5;124m'\u001B[39m)\n",
      "Cell \u001B[0;32mIn[86], line 3\u001B[0m, in \u001B[0;36mpalindrome_number\u001B[0;34m(num)\u001B[0m\n\u001B[1;32m      1\u001B[0m \u001B[38;5;28;01mdef\u001B[39;00m \u001B[38;5;21mpalindrome_number\u001B[39m(num: \u001B[38;5;28mint\u001B[39m) \u001B[38;5;241m-\u001B[39m\u001B[38;5;241m>\u001B[39m \u001B[38;5;28mbool\u001B[39m:\n\u001B[1;32m      2\u001B[0m     \u001B[38;5;28;01mif\u001B[39;00m \u001B[38;5;129;01mnot\u001B[39;00m \u001B[38;5;28misinstance\u001B[39m(num, \u001B[38;5;28mint\u001B[39m):\n\u001B[0;32m----> 3\u001B[0m         \u001B[38;5;28;01mraise\u001B[39;00m \u001B[38;5;167;01mTypeError\u001B[39;00m(\u001B[38;5;124m\"\u001B[39m\u001B[38;5;124mInput must be an integer\u001B[39m\u001B[38;5;124m\"\u001B[39m)\n\u001B[1;32m      4\u001B[0m     \u001B[38;5;28;01melse\u001B[39;00m:\n\u001B[1;32m      5\u001B[0m         \u001B[38;5;28;01mreturn\u001B[39;00m \u001B[38;5;28mstr\u001B[39m(num) \u001B[38;5;241m==\u001B[39m \u001B[38;5;28mstr\u001B[39m(num)[::\u001B[38;5;241m-\u001B[39m\u001B[38;5;241m1\u001B[39m]\n",
      "\u001B[0;31mTypeError\u001B[0m: Input must be an integer"
     ]
    }
   ],
   "source": [
    "# test 3\n",
    "palindrome_number('00000')"
   ],
   "metadata": {
    "collapsed": false,
    "ExecuteTime": {
     "end_time": "2024-02-22T21:38:53.152816Z",
     "start_time": "2024-02-22T21:38:53.092761Z"
    }
   },
   "id": "1315afb791712950",
   "execution_count": 89
  },
  {
   "cell_type": "markdown",
   "source": [
    "## 7) Flask \n",
    "---"
   ],
   "metadata": {
    "collapsed": false
   },
   "id": "1dd90f2d050903fc"
  },
  {
   "cell_type": "markdown",
   "source": [
    "#### Flask App Python File\n"
   ],
   "metadata": {
    "collapsed": false
   },
   "id": "bbe1c759d00785c4"
  },
  {
   "cell_type": "code",
   "outputs": [],
   "source": [
    "from flask import Flask, render_template\n",
    "\n",
    "app = Flask(__name__)\n",
    "\n",
    "@app.route('/')\n",
    "def home():\n",
    "    return render_template('index.html')\n",
    "\n",
    "\n",
    "@app.route('/about')\n",
    "def about():\n",
    "    return render_template('about.html')\n",
    "\n",
    "\n",
    "@app.route('/projects')\n",
    "def projects():\n",
    "    return render_template('projects.html')\n",
    "\n",
    "\n",
    "if __name__ == '__main__':\n",
    "    app.run(debug=True)"
   ],
   "metadata": {
    "collapsed": false,
    "ExecuteTime": {
     "start_time": "2024-02-22T21:38:53.148476Z"
    }
   },
   "id": "3215aa006f1274c9"
  },
  {
   "cell_type": "markdown",
   "source": [
    "#### home.html file"
   ],
   "metadata": {
    "collapsed": false
   },
   "id": "2a941c881fbef0f0"
  },
  {
   "cell_type": "code",
   "outputs": [],
   "source": [
    "{% extends 'layout.html' %}\n",
    "\n",
    "{% block content %}\n",
    "<div class=\"hero-section\">\n",
    "    <div class=\"profile-image\">\n",
    "        <img src=\"{{url_for('static', filename='portrait-elena.jpeg')}}\" alt=\"Elena Dreyer\">\n",
    "    </div>\n",
    "    <div class=\"profile-content\">\n",
    "        <h1>Welcome to my (digital) universe!</h1>\n",
    "        <h2>Hey there - it's Elena.</h2>\n",
    "        <p>When I'm not deep in the trenches of Python, coding away like there's no tomorrow, you'll find me roaming the streets with my camera on the hunt for the perfect snapshot. I've got a thing for capturing city life, from their towering buildings to the play of shadows on a sunny day. It's my own quirky way of taking a break from all that screen time.</p>\n",
    "        <p>Curious? Check out my pictures on my VSCO :)</p>\n",
    "        <div class=\"profile-actions\">\n",
    "            <a href=\"https://vsco.co/elenadreyer/gallery\" class=\"vsco-link\">\n",
    "                <img src=\"{{url_for('static', filename='vsco-share-image.png')}}\" alt=\"VSCO\" class=\"vsco-logo\">\n",
    "                <span>Visit my VSCO</span>\n",
    "            </a>\n",
    "        </div>\n",
    "    </div>\n",
    "</div>\n",
    "{% endblock %}"
   ],
   "metadata": {
    "collapsed": false,
    "ExecuteTime": {
     "start_time": "2024-02-22T21:38:53.150136Z"
    }
   },
   "id": "646493970121fd7a"
  },
  {
   "cell_type": "markdown",
   "source": [
    "#### layout.html file"
   ],
   "metadata": {
    "collapsed": false
   },
   "id": "7f4858dc3d34fcc7"
  },
  {
   "cell_type": "code",
   "outputs": [],
   "source": [
    "<!DOCTYPE html>\n",
    "<html lang=\"en\">\n",
    "<head>\n",
    "    <meta charset=\"UTF-8\">\n",
    "    <meta name=\"viewport\" content=\"width=device-width, initial-scale=1.0\">\n",
    "    <title>Elena's Website</title>\n",
    "    <link rel=\"stylesheet\" href=\"{{url_for('static', filename='style.css')}}\">\n",
    "</head>\n",
    "<body>\n",
    "    <header>\n",
    "        <nav class=\"navbar\">\n",
    "            <ul>\n",
    "                <li><a href=\"{{url_for('home')}}\">Home</a></li>\n",
    "                <li><a href=\"{{url_for('about')}}\">About</a></li>\n",
    "                <li><a href=\"{{url_for('projects')}}\">Projects</a></li>\n",
    "            </ul>\n",
    "        </nav>\n",
    "    </header>\n",
    "    <div class=\"content\">\n",
    "        {% block content %}{% endblock %}\n",
    "    </div>\n",
    "</body>\n",
    "</html>\n"
   ],
   "metadata": {
    "collapsed": false,
    "ExecuteTime": {
     "start_time": "2024-02-22T21:38:53.152231Z"
    }
   },
   "id": "50053ef27af6db7f"
  },
  {
   "cell_type": "markdown",
   "source": [
    "#### style.css file"
   ],
   "metadata": {
    "collapsed": false
   },
   "id": "7e6de0df7ee13889"
  },
  {
   "cell_type": "code",
   "outputs": [],
   "source": [
    "@import url('https://fonts.googleapis.com/css2?family=Inconsolata:wght@400;700&display=swap');\n",
    "\n",
    "body {\n",
    "    font-family: Inconsolata, sans-serif; /* Use Inconsolata as the main font */\n",
    "    margin: 0;\n",
    "    padding: 0;\n",
    "    text-align: left;\n",
    "    background: #f0f0f0; /* Assuming you want a light grey background for the body */\n",
    "}\n",
    "\n",
    ".hero-section {\n",
    "    display: flex;\n",
    "    align-items: center; /* Vertically center the items in the hero section */\n",
    "    justify-content: center; /* Center the hero section content horizontally */\n",
    "    background-color: #fff; /* White background for the hero section */\n",
    "    padding: 50px 10%; /* Add padding on the top and bottom, and 10% from the left and right */\n",
    "    box-shadow: 0 4px 8px rgba(0,0,0,0.1); /* A subtle shadow to lift the hero section */\n",
    "}\n",
    "\n",
    ".profile-image img {\n",
    "    border-radius: 50%; /* Makes the image circular */\n",
    "    width: 250px; /* Set a fixed width for the image */\n",
    "    height: 250px; /* Set a fixed height for the image */\n",
    "    object-fit: cover; /* Ensures the image covers the area without stretching */\n",
    "    margin-right: 50px; /* Add space between the image and the profile info */\n",
    "}\n",
    "\n",
    ".profile-info {\n",
    "    text-align: left; /* Align the text to the left */\n",
    "}\n",
    "\n",
    ".profile-info h1 {\n",
    "    font-size: 2.5rem; /* Large font size for the name */\n",
    "    margin-bottom: 0.5rem; /* Space between the name and the subtitle */\n",
    "}\n",
    "\n",
    ".profile-info h2 {\n",
    "    font-size: 1.5rem; /* Smaller font size for the subtitle */\n",
    "    margin-bottom: 1rem; /* Space between the subtitle and the paragraph */\n",
    "}\n",
    "\n",
    ".profile-info p {\n",
    "    font-size: 1rem; /* Regular font size for the paragraph */\n",
    "    margin-bottom: 2rem; /* Space between the paragraph and the buttons */\n",
    "}\n",
    "\n",
    "/* General style for links within .profile-actions */\n",
    ".profile-actions a {\n",
    "    font-weight: 400;\n",
    "    width: fit-content;\n",
    "    color: #ffffff;\n",
    "    text-align: center;\n",
    "    vertical-align: middle;\n",
    "    background-color: #000000;\n",
    "    border: 1px solid transparent;\n",
    "    padding: 0.375rem 0.75rem;\n",
    "    font-size: 1rem;\n",
    "    line-height: 1.5;\n",
    "    border-radius: 0.25rem;\n",
    "    transition: background-color 0.3s;\n",
    "    text-decoration: none; /* Removes underline from the link */\n",
    "    margin-right: 5px; /* Space between links */\n",
    "}\n",
    "\n",
    "/* Specific style for the VSCO link */\n",
    ".vsco-link {\n",
    "    display: flex; /* Use flexbox to align children */\n",
    "    align-items: center; /* Center items vertically */\n",
    "    justify-content: flex-start; /* Align items to the start of the container */\n",
    "    padding: 10px; /* Add padding inside the link */\n",
    "    border-radius: 15px; /* Rounded corners */\n",
    "    margin-top: 10px; /* Add space on top of the VSCO link */\n",
    "}\n",
    "\n",
    ".vsco-logo {\n",
    "    width: 40px; /* Width of the logo */\n",
    "    height: 40px; /* Height of the logo */\n",
    "    margin-right: 10px; /* Space between logo and text */\n",
    "}\n",
    "\n",
    ".profile-actions a:hover {\n",
    "    background-color: #000000; /* Darker background on hover */\n",
    "}\n",
    "\n",
    "\n",
    "/* Style for the navbar */\n",
    ".navbar {\n",
    "    background-color: #333;\n",
    "    overflow: hidden;\n",
    "}\n",
    "\n",
    "/* Remove default list styling */\n",
    ".navbar ul {\n",
    "    list-style-type: none;\n",
    "    margin: 0;\n",
    "    padding: 0;\n",
    "    display: flex; /* This will layout the list items horizontally */\n",
    "    align-items: center; /* This will vertically align the items if the navbar has a height */\n",
    "    justify-content: center; /* This will horizontally center the items */\n",
    "}\n",
    "\n",
    "/* Style for each list item */\n",
    ".navbar li {\n",
    "    display: inline-block; /* Display list items in a line */\n",
    "}\n",
    "\n",
    "/* Style for anchor tags inside the navbar */\n",
    ".navbar a {\n",
    "    display: block;\n",
    "    color: white;\n",
    "    text-align: center;\n",
    "    padding: 14px 20px;\n",
    "    text-decoration: none;\n",
    "}\n",
    "\n",
    "/* Style for anchor tags on hover */\n",
    ".navbar a:hover {\n",
    "    background-color: #ddd;\n",
    "    color: black;\n",
    "}"
   ],
   "metadata": {
    "collapsed": false,
    "ExecuteTime": {
     "start_time": "2024-02-22T21:38:53.153767Z"
    }
   },
   "id": "dad14b08c55f1ad4"
  }
 ],
 "metadata": {
  "kernelspec": {
   "display_name": "Python 3",
   "language": "python",
   "name": "python3"
  },
  "language_info": {
   "codemirror_mode": {
    "name": "ipython",
    "version": 2
   },
   "file_extension": ".py",
   "mimetype": "text/x-python",
   "name": "python",
   "nbconvert_exporter": "python",
   "pygments_lexer": "ipython2",
   "version": "2.7.6"
  }
 },
 "nbformat": 4,
 "nbformat_minor": 5
}
